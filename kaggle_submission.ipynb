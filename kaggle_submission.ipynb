{
 "cells": [
  {
   "cell_type": "code",
   "execution_count": 2,
   "metadata": {},
   "outputs": [
    {
     "name": "stdout",
     "output_type": "stream",
     "text": [
      "100%|█████████████████████████████████████████| 541k/541k [00:03<00:00, 181kB/s]\n",
      "100%|██████████████████████████████████████| 16.4M/16.4M [00:03<00:00, 4.40MB/s]\n",
      "Successfully submitted to Face Verification"
     ]
    }
   ],
   "source": [
    "import os\n",
    "submission_name = 'vgg16'\n",
    "sub_dir = '/shared/youngkim/hw2p2/submissions'\n",
    "cls_csv = os.path.join(sub_dir, f'{submission_name}_cls_sub.csv')\n",
    "ver_csv = os.path.join(sub_dir, f'{submission_name}_ver_sub.csv')\n",
    "!kaggle competitions submit -c 11-785-s22-hw2p2-classification -f {cls_csv} -m {submission_name}\n",
    "!kaggle competitions submit -c 11-785-s22-hw2p2-verification -f {ver_csv} -m {submission_name}"
   ]
  },
  {
   "cell_type": "code",
   "execution_count": null,
   "metadata": {},
   "outputs": [],
   "source": []
  }
 ],
 "metadata": {
  "interpreter": {
   "hash": "c7f4b8f189bb992a73105ae1caa84f4dc1a850a570edabb60ce3cadd001d05c2"
  },
  "kernelspec": {
   "display_name": "Python 3.7.11 64-bit ('help': conda)",
   "language": "python",
   "name": "python3"
  },
  "language_info": {
   "codemirror_mode": {
    "name": "ipython",
    "version": 3
   },
   "file_extension": ".py",
   "mimetype": "text/x-python",
   "name": "python",
   "nbconvert_exporter": "python",
   "pygments_lexer": "ipython3",
   "version": "3.8.12"
  },
  "orig_nbformat": 4
 },
 "nbformat": 4,
 "nbformat_minor": 2
}
